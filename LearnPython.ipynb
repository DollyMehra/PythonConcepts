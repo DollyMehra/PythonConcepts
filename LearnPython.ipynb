{
  "nbformat": 4,
  "nbformat_minor": 0,
  "metadata": {
    "colab": {
      "name": "LearnPython",
      "provenance": [],
      "authorship_tag": "ABX9TyNXQxIPPeMp0FkNIWwT5Q9n",
      "include_colab_link": true
    },
    "kernelspec": {
      "name": "python3",
      "display_name": "Python 3"
    },
    "language_info": {
      "name": "python"
    }
  },
  "cells": [
    {
      "cell_type": "markdown",
      "metadata": {
        "id": "view-in-github",
        "colab_type": "text"
      },
      "source": [
        "<a href=\"https://colab.research.google.com/github/DollyMehra/PythonConcepts/blob/main/LearnPython.ipynb\" target=\"_parent\"><img src=\"https://colab.research.google.com/assets/colab-badge.svg\" alt=\"Open In Colab\"/></a>"
      ]
    },
    {
      "cell_type": "code",
      "execution_count": null,
      "metadata": {
        "colab": {
          "base_uri": "https://localhost:8080/"
        },
        "id": "7jRI73jlW0CE",
        "outputId": "43888ada-83fb-49af-b2df-ad4f6b8da062"
      },
      "outputs": [
        {
          "output_type": "stream",
          "name": "stdout",
          "text": [
            "None\n"
          ]
        }
      ],
      "source": [
        "def a_void_function():\n",
        "  a = 1\n",
        "  b = 2\n",
        "  c = 1+2\n",
        "\n",
        "x = a_void_function()\n",
        "print(x)  "
      ]
    },
    {
      "cell_type": "code",
      "source": [
        "#class\n",
        "class test:\n",
        "    def function1(parameter):\n",
        "      print(\"function1 is executing...\")\n",
        "    def function2(parameter):\n",
        "      print(\"functon2 is executing....\")\n",
        "\n",
        "object1= test()\n",
        "object1.function1()\n",
        "object1.function2()"
      ],
      "metadata": {
        "colab": {
          "base_uri": "https://localhost:8080/"
        },
        "id": "WtNWOCDEZ03h",
        "outputId": "bb8492aa-e0de-4a5f-dd0c-cbe87c65562b"
      },
      "execution_count": null,
      "outputs": [
        {
          "output_type": "stream",
          "name": "stdout",
          "text": [
            "function1 is executing...\n",
            "functon2 is executing....\n"
          ]
        }
      ]
    },
    {
      "cell_type": "code",
      "source": [
        "#if..elif..else\n",
        "\n",
        "num = 2\n",
        "if num == 1:\n",
        "  print(\"one\")\n",
        "elif num == 2:\n",
        "  print(\"two\")\n",
        "else:\n",
        "  print(\"something else\")\n",
        "\n",
        "\n"
      ],
      "metadata": {
        "colab": {
          "base_uri": "https://localhost:8080/"
        },
        "id": "A85Lr1j_b7-w",
        "outputId": "813a880e-431b-4729-cb5e-8e595961845e"
      },
      "execution_count": null,
      "outputs": [
        {
          "output_type": "stream",
          "name": "stdout",
          "text": [
            "two\n"
          ]
        }
      ]
    },
    {
      "cell_type": "code",
      "source": [
        "#try..raise..except..finally\n",
        "try:\n",
        "  x = 9\n",
        "  #raise ZeroDivisionError\n",
        "except ZeroDivisionError:\n",
        "  print(\"Division cannot be performed\")\n",
        "finally:\n",
        "  print(\"execution successfully\")"
      ],
      "metadata": {
        "colab": {
          "base_uri": "https://localhost:8080/"
        },
        "id": "VD76i5-UeMt9",
        "outputId": "fcd83683-7423-44ad-d7e5-263f69f7e5d4"
      },
      "execution_count": null,
      "outputs": [
        {
          "output_type": "stream",
          "name": "stdout",
          "text": [
            "execution successfully\n"
          ]
        }
      ]
    },
    {
      "cell_type": "code",
      "source": [
        "a = lambda x : x*3\n",
        "for i in range(1,6):\n",
        "    print(a(i))"
      ],
      "metadata": {
        "colab": {
          "base_uri": "https://localhost:8080/"
        },
        "id": "u77KqBV8hY8y",
        "outputId": "8b71e1b1-86ea-4df6-b12c-77e8cb60b8aa"
      },
      "execution_count": null,
      "outputs": [
        {
          "output_type": "stream",
          "name": "stdout",
          "text": [
            "3\n",
            "6\n",
            "9\n",
            "12\n",
            "15\n"
          ]
        }
      ]
    },
    {
      "cell_type": "code",
      "source": [
        "#nonlocal\n",
        "\n",
        "def outer_function():\n",
        "   a = 5\n",
        "   def inner_function():\n",
        "     nonlocal a\n",
        "     a = 15\n",
        "     print(\"inner function\", a)\n",
        "   inner_function()\n",
        "   print(\"outer function\",a)\n",
        "outer_function()     \n"
      ],
      "metadata": {
        "colab": {
          "base_uri": "https://localhost:8080/"
        },
        "id": "_xnItqDej9nD",
        "outputId": "9e82d24e-2b87-4ce8-a56c-a5e74fd41a6c"
      },
      "execution_count": null,
      "outputs": [
        {
          "output_type": "stream",
          "name": "stdout",
          "text": [
            "inner function 15\n",
            "outer function 15\n"
          ]
        }
      ]
    },
    {
      "cell_type": "code",
      "source": [
        "def generator():\n",
        "  for i in range(6):\n",
        "    yield i * i\n",
        "\n",
        "g = generator()\n",
        "for i in g:\n",
        "  print(i)"
      ],
      "metadata": {
        "colab": {
          "base_uri": "https://localhost:8080/"
        },
        "id": "Go33yHoUmytX",
        "outputId": "bbc2d7b4-bf37-4a51-b2e5-f090a2456fb5"
      },
      "execution_count": null,
      "outputs": [
        {
          "output_type": "stream",
          "name": "stdout",
          "text": [
            "0\n",
            "1\n",
            "4\n",
            "9\n",
            "16\n",
            "25\n"
          ]
        }
      ]
    },
    {
      "cell_type": "code",
      "source": [
        "#creating base class that is parent class\n",
        "class myBird:\n",
        "  def __init__(self):\n",
        "    print(\"myBird class constructor is executing..\")\n",
        "  def whatType(self):\n",
        "    print(\"I am a Bird...\")\n",
        "  def canSwim(self):\n",
        "    print(\"I can Swim...\")\n",
        "    "
      ],
      "metadata": {
        "id": "UCYfOzukR1Hz"
      },
      "execution_count": 1,
      "outputs": []
    },
    {
      "cell_type": "code",
      "source": [
        "#mypenguin class inherting the attrbutes from the myBird Class\n",
        "class myPenguin(myBird):\n",
        "  def __init__(self):\n",
        "    super().__init__()\n",
        "    print(\"myPenguin class constructor is executing...\")\n",
        "  def whoisThis(self):\n",
        "    print(\"I am Penguin..\")\n",
        "  def canRun(self):\n",
        "    print(\"I can run faster..\")  \n",
        "  \n"
      ],
      "metadata": {
        "id": "8NFpFyn9Sft7"
      },
      "execution_count": 4,
      "outputs": []
    },
    {
      "cell_type": "code",
      "source": [
        "pg1 = myPenguin()\n",
        "pg1.whatType()\n",
        "pg1.canSwim()\n",
        "pg1.whoisThis()\n",
        "pg1.canRun()"
      ],
      "metadata": {
        "colab": {
          "base_uri": "https://localhost:8080/"
        },
        "id": "xHU7jiv2TV5s",
        "outputId": "aeed2d51-1939-4338-dd08-a225bd9d8bd7"
      },
      "execution_count": 5,
      "outputs": [
        {
          "output_type": "stream",
          "name": "stdout",
          "text": [
            "myBird class constructor is executing..\n",
            "myPenguin class constructor is executing...\n",
            "I am a Bird...\n",
            "I can Swim...\n",
            "I am Penguin..\n",
            "I can run faster..\n"
          ]
        }
      ]
    }
  ]
}